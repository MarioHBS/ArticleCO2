{
 "cells": [
  {
   "cell_type": "markdown",
   "id": "0d8ebe74",
   "metadata": {},
   "source": [
    "# Validação do Pipeline\n",
    "Este notebook executa e valida cada etapa do pipeline de processamento de dados e geração de resultados. Cada etapa é executada separadamente para facilitar o acompanhamento e depuração."
   ]
  },
  {
   "cell_type": "markdown",
   "id": "97d90944",
   "metadata": {},
   "source": [
    "## Importação de Bibliotecas Necessárias\n",
    "Importamos as bibliotecas essenciais para execução de scripts e validação de arquivos de saída."
   ]
  },
  {
   "cell_type": "code",
   "execution_count": 8,
   "id": "52164421",
   "metadata": {},
   "outputs": [],
   "source": [
    "# Importação de bibliotecas\n",
    "import subprocess\n",
    "import os\n",
    "import sys\n",
    "from variaveis import INPUT_PATHS, OUTPUT_PATHS, CARBONO_CONSOLIDADO"
   ]
  },
  {
   "cell_type": "markdown",
   "id": "d5711fad",
   "metadata": {},
   "source": [
    "## Funções Auxiliares\n",
    "Definimos funções auxiliares para impressão segura e verificação de arquivos de saída."
   ]
  },
  {
   "cell_type": "code",
   "execution_count": 2,
   "id": "c4e52aed",
   "metadata": {},
   "outputs": [],
   "source": [
    "# Função para impressão segura\n",
    "def safe_print(s: str):\n",
    "    try:\n",
    "        sys.stdout.write(s)\n",
    "    except UnicodeEncodeError:\n",
    "        clean = s.encode(sys.stdout.encoding, errors='replace').decode(\n",
    "            sys.stdout.encoding)\n",
    "        sys.stdout.write(clean)\n",
    "\n",
    "# Função para verificar existência de arquivos\n",
    "def check_files(files):\n",
    "    status = True\n",
    "    for f in files:\n",
    "        if not os.path.exists(f):\n",
    "            print(f\"[MISSING] {f}\")\n",
    "            status = False\n",
    "        else:\n",
    "            print(f\"[OK]      {f}\")\n",
    "    return status\n",
    "\n",
    "\n",
    "# Initialize overall success tracker\n",
    "all_ok = True"
   ]
  },
  {
   "cell_type": "markdown",
   "id": "901e7ba3",
   "metadata": {},
   "source": [
    "## Etapa 1: Executar `00_extrair_pib_municipal.py`\n",
    "Executa o script responsável por extrair os dados de PIB municipal e valida os arquivos de saída."
   ]
  },
  {
   "cell_type": "code",
   "execution_count": 3,
   "id": "1f288839",
   "metadata": {},
   "outputs": [
    {
     "data": {
      "text/plain": [
       "'\\n=== Running 00_extrair_pib_municipal.py ==='"
      ]
     },
     "metadata": {},
     "output_type": "display_data"
    },
    {
     "data": {
      "text/plain": [
       "''"
      ]
     },
     "metadata": {},
     "output_type": "display_data"
    },
    {
     "data": {
      "text/plain": [
       "'Checking outputs for 00_extrair_pib_municipal.py:'"
      ]
     },
     "metadata": {},
     "output_type": "display_data"
    },
    {
     "name": "stdout",
     "output_type": "stream",
     "text": [
      "[OK]      data/partial/pib_municipal_serra_penitente_ibge.csv\n"
     ]
    }
   ],
   "source": [
    "# Etapa 1\n",
    "script = \"00_extrair_pib_municipal.py\"\n",
    "outputs = [OUTPUT_PATHS.pib_ibge_csv]\n",
    "\n",
    "display(f\"\\n=== Running {script} ===\")\n",
    "result = subprocess.run([sys.executable, script], capture_output=True, text=True)\n",
    "display(result.stdout)\n",
    "if result.returncode != 0:\n",
    "    safe_print(f\"[ERROR] {script} failed (exit code {result.returncode})\\n\")\n",
    "    all_ok = False\n",
    "else:\n",
    "    display(f\"Checking outputs for {script}:\")\n",
    "    if not check_files(outputs):\n",
    "        all_ok = False"
   ]
  },
  {
   "cell_type": "markdown",
   "id": "db5e1e5c",
   "metadata": {},
   "source": [
    "## Etapa 2: Executar `01_extrair_gee_municipal_excel.py`\n",
    "Executa o script responsável por extrair os dados de GEE municipal e valida os arquivos de saída."
   ]
  },
  {
   "cell_type": "code",
   "execution_count": 4,
   "id": "ac2a241e",
   "metadata": {},
   "outputs": [
    {
     "data": {
      "text/plain": [
       "'=== Running 01_extrair_cobertura_municipal.py ==='"
      ]
     },
     "metadata": {},
     "output_type": "display_data"
    },
    {
     "data": {
      "text/plain": [
       "'âœ… CSV long de cobertura MapBiomas gerado em: data/partial/mapbiomas_cobertura_municipal_long.csv\\n'"
      ]
     },
     "metadata": {},
     "output_type": "display_data"
    },
    {
     "data": {
      "text/plain": [
       "'Checking outputs for 01_extrair_cobertura_municipal.py:'"
      ]
     },
     "metadata": {},
     "output_type": "display_data"
    },
    {
     "name": "stdout",
     "output_type": "stream",
     "text": [
      "[OK]      data/partial/mapbiomas_cobertura_municipal_long.csv\n"
     ]
    }
   ],
   "source": [
    "# Etapa 2\n",
    "script = \"01_extrair_cobertura_municipal.py\"\n",
    "outputs = [OUTPUT_PATHS.mapbiomas_long_csv]\n",
    "\n",
    "display(f\"=== Running {script} ===\")\n",
    "result = subprocess.run([sys.executable, script], capture_output=True, text=True)\n",
    "display(result.stdout)\n",
    "if result.returncode != 0:\n",
    "    safe_print(f\"[ERROR] {script} failed (exit code {result.returncode})\\n\")\n",
    "    all_ok = False\n",
    "else:\n",
    "    display(f\"Checking outputs for {script}:\")\n",
    "    if not check_files(outputs):\n",
    "        all_ok = False"
   ]
  },
  {
   "cell_type": "markdown",
   "id": "43e9daaf",
   "metadata": {},
   "source": [
    "## Etapa 3: Executar `02_extrair_alertas_desmatamento.py`\n",
    "Executa o script responsável por extrair os alertas de desmatamento e valida os arquivos de saída."
   ]
  },
  {
   "cell_type": "code",
   "execution_count": 5,
   "id": "b707bc86",
   "metadata": {},
   "outputs": [
    {
     "data": {
      "text/plain": [
       "'=== Running 02_extrair_alertas_desmatamento.py ==='"
      ]
     },
     "metadata": {},
     "output_type": "display_data"
    },
    {
     "data": {
      "text/plain": [
       "'âœ… 1817 alertas salvos em: data/partial/alertas_serra_penitente.csv\\n'"
      ]
     },
     "metadata": {},
     "output_type": "display_data"
    },
    {
     "data": {
      "text/plain": [
       "'Checking outputs for 02_extrair_alertas_desmatamento.py:'"
      ]
     },
     "metadata": {},
     "output_type": "display_data"
    },
    {
     "name": "stdout",
     "output_type": "stream",
     "text": [
      "[OK]      data/partial/alertas_serra_penitente.csv\n"
     ]
    }
   ],
   "source": [
    "# Etapa 3\n",
    "script = \"02_extrair_alertas_desmatamento.py\"\n",
    "outputs = [OUTPUT_PATHS.alertas_csv]\n",
    "\n",
    "display(f\"=== Running {script} ===\")\n",
    "result = subprocess.run([sys.executable, script], capture_output=True, text=True)\n",
    "display(result.stdout)\n",
    "if result.returncode != 0:\n",
    "    safe_print(f\"[ERROR] {script} failed (exit code {result.returncode})\\n\")\n",
    "    all_ok = False\n",
    "else:\n",
    "    display(f\"Checking outputs for {script}:\")\n",
    "    if not check_files(outputs):\n",
    "        all_ok = False"
   ]
  },
  {
   "cell_type": "markdown",
   "id": "49eeb603",
   "metadata": {},
   "source": [
    "## Etapa 4: Executar `03_extrair_uso_terra_timeseries.py`\n",
    "Executa o script responsável por extrair as séries temporais de uso da terra e valida os arquivos de saída."
   ]
  },
  {
   "cell_type": "code",
   "execution_count": 6,
   "id": "4abcd925",
   "metadata": {},
   "outputs": [
    {
     "data": {
      "text/plain": [
       "'=== Running 03_extrair_uso_terra_timeseries.py ==='"
      ]
     },
     "metadata": {},
     "output_type": "display_data"
    },
    {
     "data": {
      "text/plain": [
       "'Amostra (longo):\\n   codigo_ibge   municipio  uso  year        area_ha     area_km2\\n0      1200013  AcrelÃ¢ndia    0  1985      17.611782     0.176118\\n1      1200013  AcrelÃ¢ndia    3  1985  170522.562954  1705.225630\\n2      1200013  AcrelÃ¢ndia    6  1985    1801.208313    18.012083\\n3      1200013  AcrelÃ¢ndia   11  1985      16.031937     0.160319\\n4      1200013  AcrelÃ¢ndia   12  1985     244.979835     2.449798\\n\\nAmostra pÃ³s-filtro:\\n   codigo_ibge      municipio  uso  year        area_ha     area_km2\\n0      2100501  Alto ParnaÃ\\xadba    3  1985   81189.241510   811.892415\\n1      2100501  Alto ParnaÃ\\xadba    4  1985  846250.420751  8462.504208\\n2      2100501  Alto ParnaÃ\\xadba    9  1985       0.000000     0.000000\\n3      2100501  Alto ParnaÃ\\xadba   11  1985    9934.681447    99.346814\\n4      2100501  Alto ParnaÃ\\xadba   12  1985  167314.721706  1673.147217\\n\\nAmostra agregada (municÃ\\xadpio Ã— uso Ã— ano):\\n   codigo_ibge      municipio  year  uso        area_ha     area_km2\\n0      2100501  Alto ParnaÃ\\xadba  1985    3   81189.241510   811.892415\\n1      2100501  Alto ParnaÃ\\xadba  1985    4  846250.420751  8462.504208\\n2      2100501  Alto ParnaÃ\\xadba  1985    9       0.000000     0.000000\\n3      2100501  Alto ParnaÃ\\xadba  1985   11    9934.681447    99.346814\\n4      2100501  Alto ParnaÃ\\xadba  1985   12  167314.721706  1673.147217\\nâœ… CSV parcial gerado em: data/partial/uso_terra_serra_penitente_timeseries.csv\\n'"
      ]
     },
     "metadata": {},
     "output_type": "display_data"
    },
    {
     "data": {
      "text/plain": [
       "'Checking outputs for 03_extrair_uso_terra_timeseries.py:'"
      ]
     },
     "metadata": {},
     "output_type": "display_data"
    },
    {
     "name": "stdout",
     "output_type": "stream",
     "text": [
      "[OK]      data/partial/uso_terra_serra_penitente_timeseries.csv\n"
     ]
    }
   ],
   "source": [
    "# Etapa 4\n",
    "script = \"03_extrair_uso_terra_timeseries.py\"\n",
    "outputs = [INPUT_PATHS.uso_timeseries]\n",
    "\n",
    "display(f\"=== Running {script} ===\")\n",
    "result = subprocess.run([sys.executable, script], capture_output=True, text=True)\n",
    "display(result.stdout)\n",
    "if result.returncode != 0:\n",
    "    safe_print(f\"[ERROR] {script} failed (exit code {result.returncode})\\n\")\n",
    "    all_ok = False\n",
    "else:\n",
    "    display(f\"Checking outputs for {script}:\")\n",
    "    if not check_files(outputs):\n",
    "        all_ok = False"
   ]
  },
  {
   "cell_type": "markdown",
   "id": "1222cff3",
   "metadata": {},
   "source": [
    "## Etapa 5: Executar `04_consolidar_modelar_carbono.py`\n",
    "Executa o script responsável por consolidar e modelar os dados de carbono e valida os arquivos de saída."
   ]
  },
  {
   "cell_type": "code",
   "execution_count": 10,
   "id": "6b7713d6",
   "metadata": {},
   "outputs": [
    {
     "data": {
      "text/plain": [
       "'=== Running 04_consolidar_dados_carbono.py ==='"
      ]
     },
     "metadata": {},
     "output_type": "display_data"
    },
    {
     "data": {
      "text/plain": [
       "'âœ… Dataset final gerado: data/generated/carbono_serra_penitente.csv\\nâœ… MÃ©tricas salvas em results/carbon_price_model_all_results.csv\\n'"
      ]
     },
     "metadata": {},
     "output_type": "display_data"
    },
    {
     "data": {
      "text/plain": [
       "'Checking outputs for 04_consolidar_dados_carbono.py:'"
      ]
     },
     "metadata": {},
     "output_type": "display_data"
    },
    {
     "name": "stdout",
     "output_type": "stream",
     "text": [
      "[OK]      data/generated/carbono_serra_penitente.csv\n",
      "[OK]      results/carbon_price_model_all_results.csv\n"
     ]
    }
   ],
   "source": [
    "# Etapa 5\n",
    "script = \"04_consolidar_dados_carbono.py\"\n",
    "outputs = [\n",
    "    CARBONO_CONSOLIDADO,\n",
    "    OUTPUT_PATHS.model_results_csv\n",
    "]\n",
    "\n",
    "display(f\"=== Running {script} ===\")\n",
    "result = subprocess.run([sys.executable, script], capture_output=True, text=True)\n",
    "display(result.stdout)\n",
    "if result.returncode != 0:\n",
    "    safe_print(f\"[ERROR] {script} failed (exit code {result.returncode})\\n\")\n",
    "    all_ok = False\n",
    "else:\n",
    "    display(f\"Checking outputs for {script}:\")\n",
    "    if not check_files(outputs):\n",
    "        all_ok = False"
   ]
  },
  {
   "cell_type": "markdown",
   "id": "28f39f5b",
   "metadata": {},
   "source": [
    "## Etapa 6: Executar `05_gerar_figuras_carbono.py`\n",
    "Executa o script responsável por gerar as figuras de carbono e valida os arquivos de saída dinamicamente."
   ]
  },
  {
   "cell_type": "code",
   "execution_count": 11,
   "id": "86fdb90e",
   "metadata": {},
   "outputs": [
    {
     "data": {
      "text/plain": [
       "'=== Running 05_gerar_figuras_carbono.py ==='"
      ]
     },
     "metadata": {},
     "output_type": "display_data"
    },
    {
     "data": {
      "text/plain": [
       "'[INFO] Carregando dados consolidados de: data/generated/carbono_serra_penitente.csv\\n[INFO] DataFrame carregado: 136 linhas, 5 colunas\\n[INFO] Carregando sÃ©rie de preÃ§os de carbono de: data/raw/carbon-prices-latest.xlsx\\n[INFO] SÃ©rie de preÃ§os carregada: 196 linhas, 45 colunas\\n[INFO] PreÃ§os filtrados EU ETS: 7 anos\\n[INFO] ApÃ³s merge de preÃ§os: 136 linhas, 6 colunas\\n[INFO] Agregando dados por municÃ\\xadpio e ano...\\n[INFO] DataFrame agregado: 136 registros Ãºnicos\\n[INFO] Gerando Figura 01\\n[OK] Figura 01 salva em results/figures\\\\Figura01_Evolucao_PIB.png\\n[INFO] Gerando Figura 02\\n[OK] Figura 02 salva em results/figures\\\\Figura02_Evolucao_GEE.png\\n[INFO] Gerando Figura 03\\n[OK] Figura 03 salva em results/figures\\\\Figura03_Evolucao_Desmatamento.png\\n[INFO] Carregando mÃ©tricas de modelos\\n[INFO] MÃ©tricas carregadas: 9 modelos\\n[INFO] Gerando Figura 04\\n[OK] Figura 04 salva em results/figures\\\\Figura04_EQM_Modelos.png\\n[INFO] Gerando Figura 05\\n[OK] Figura 05 salva em results/figures\\\\Figura05_Correlacoes.png\\n[INFO] Preparando dados para scatters\\n[INFO] Amostras vÃ¡lidas para modelagem: (12, 6)\\n[INFO] Gerando scatters para cada modelo\\n[INFO] Treinando modelo LinearRegression (scatter 1)\\n[OK] Figura07_1 salva em results/figures\\\\Figura07_1_LinearRegression.png\\n[INFO] Treinando modelo RandomForest (scatter 2)\\n[OK] Figura07_2 salva em results/figures\\\\Figura07_2_RandomForest.png\\n[INFO] Treinando modelo KNN (scatter 3)\\n[OK] Figura07_3 salva em results/figures\\\\Figura07_3_KNN.png\\n[INFO] Treinando modelo DecisionTree (scatter 4)\\n[OK] Figura07_4 salva em results/figures\\\\Figura07_4_DecisionTree.png\\n[INFO] Treinando modelo MLP (scatter 5)\\n[OK] Figura07_5 salva em results/figures\\\\Figura07_5_MLP.png\\n[INFO] Treinando modelo Lasso (scatter 6)\\n[OK] Figura07_6 salva em results/figures\\\\Figura07_6_Lasso.png\\n[INFO] Treinando modelo SVR (scatter 7)\\n[OK] Figura07_7 salva em results/figures\\\\Figura07_7_SVR.png\\n[INFO] Treinando modelo Dummy (scatter 8)\\n[OK] Figura07_8 salva em results/figures\\\\Figura07_8_Dummy.png\\n[INFO] Treinando modelo XGBoost (scatter 9)\\n[OK] Figura07_9 salva em results/figures\\\\Figura07_9_XGBoost.png\\n[INFO] Gerando Figura 08\\n[OK] Figura08 salva em results/figures\\\\Figura08_Importancia_Variaveis.png\\n[INFO] Gerando Figura 09\\n[OK] Figura09 salva em results/figures\\\\Figura09_Evolucao_Preco_Carbono.png\\nâœ… Todas as figuras numeradas geradas com sucesso!\\n'"
      ]
     },
     "metadata": {},
     "output_type": "display_data"
    },
    {
     "data": {
      "text/plain": [
       "'Checking outputs for 05_gerar_figuras_carbono.py:'"
      ]
     },
     "metadata": {},
     "output_type": "display_data"
    },
    {
     "data": {
      "text/plain": [
       "'[OK]      Pattern results/figures\\\\Figura01_*.png -> 1 file(s)'"
      ]
     },
     "metadata": {},
     "output_type": "display_data"
    },
    {
     "data": {
      "text/plain": [
       "'[OK]      Pattern results/figures\\\\Figura02_*.png -> 1 file(s)'"
      ]
     },
     "metadata": {},
     "output_type": "display_data"
    },
    {
     "data": {
      "text/plain": [
       "'[OK]      Pattern results/figures\\\\Figura03_*.png -> 1 file(s)'"
      ]
     },
     "metadata": {},
     "output_type": "display_data"
    },
    {
     "data": {
      "text/plain": [
       "'[OK]      Pattern results/figures\\\\Figura04_*.png -> 1 file(s)'"
      ]
     },
     "metadata": {},
     "output_type": "display_data"
    },
    {
     "data": {
      "text/plain": [
       "'[OK]      Pattern results/figures\\\\Figura05_*.png -> 1 file(s)'"
      ]
     },
     "metadata": {},
     "output_type": "display_data"
    },
    {
     "data": {
      "text/plain": [
       "'[OK]      Pattern results/figures\\\\Figura07_1_*.png -> 1 file(s)'"
      ]
     },
     "metadata": {},
     "output_type": "display_data"
    },
    {
     "data": {
      "text/plain": [
       "'[OK]      Pattern results/figures\\\\Figura07_2_*.png -> 1 file(s)'"
      ]
     },
     "metadata": {},
     "output_type": "display_data"
    },
    {
     "data": {
      "text/plain": [
       "'[OK]      Pattern results/figures\\\\Figura07_3_*.png -> 1 file(s)'"
      ]
     },
     "metadata": {},
     "output_type": "display_data"
    },
    {
     "data": {
      "text/plain": [
       "'[OK]      Pattern results/figures\\\\Figura07_4_*.png -> 1 file(s)'"
      ]
     },
     "metadata": {},
     "output_type": "display_data"
    },
    {
     "data": {
      "text/plain": [
       "'[OK]      Pattern results/figures\\\\Figura07_5_*.png -> 1 file(s)'"
      ]
     },
     "metadata": {},
     "output_type": "display_data"
    },
    {
     "data": {
      "text/plain": [
       "'[OK]      Pattern results/figures\\\\Figura07_6_*.png -> 1 file(s)'"
      ]
     },
     "metadata": {},
     "output_type": "display_data"
    },
    {
     "data": {
      "text/plain": [
       "'[OK]      Pattern results/figures\\\\Figura07_7_*.png -> 1 file(s)'"
      ]
     },
     "metadata": {},
     "output_type": "display_data"
    },
    {
     "data": {
      "text/plain": [
       "'[OK]      Pattern results/figures\\\\Figura07_8_*.png -> 1 file(s)'"
      ]
     },
     "metadata": {},
     "output_type": "display_data"
    },
    {
     "data": {
      "text/plain": [
       "'[OK]      Pattern results/figures\\\\Figura07_9_*.png -> 1 file(s)'"
      ]
     },
     "metadata": {},
     "output_type": "display_data"
    },
    {
     "data": {
      "text/plain": [
       "'[OK]      Pattern results/figures\\\\Figura08_Importancia_Variaveis.png -> 1 file(s)'"
      ]
     },
     "metadata": {},
     "output_type": "display_data"
    },
    {
     "data": {
      "text/plain": [
       "'[OK]      Pattern results/figures\\\\Figura09_Evolucao_Preco_Carbono.png -> 1 file(s)'"
      ]
     },
     "metadata": {},
     "output_type": "display_data"
    }
   ],
   "source": [
    "# Etapa 6\n",
    "script = \"05_gerar_figuras_carbono.py\"\n",
    "\n",
    "display(f\"=== Running {script} ===\")\n",
    "result = subprocess.run([sys.executable, script], capture_output=True, text=True)\n",
    "display(result.stdout)\n",
    "if result.returncode != 0:\n",
    "    safe_print(f\"[ERROR] {script} failed (exit code {result.returncode})\\n\")\n",
    "    all_ok = False\n",
    "else:\n",
    "    display(f\"Checking outputs for {script}:\")\n",
    "    fig_dir = os.path.dirname(OUTPUT_PATHS.evolucao_pib_png)\n",
    "    expected = []\n",
    "    for i in range(1, 6):\n",
    "        expected.append(os.path.join(fig_dir, f\"Figura{i:02d}_*.png\"))\n",
    "    for i in range(1, 10):\n",
    "        expected.append(os.path.join(fig_dir, f\"Figura07_{i}_*.png\"))\n",
    "    expected.append(os.path.join(fig_dir, \"Figura08_Importancia_Variaveis.png\"))\n",
    "    expected.append(os.path.join(fig_dir, \"Figura09_Evolucao_Preco_Carbono.png\"))\n",
    "    import glob\n",
    "    for pattern in expected:\n",
    "        matches = glob.glob(pattern)\n",
    "        if matches:\n",
    "            display(f\"[OK]      Pattern {pattern} -> {len(matches)} file(s)\")\n",
    "        else:\n",
    "            display(f\"[MISSING] Pattern {pattern}\")\n",
    "        all_ok = all_ok and len(matches) > 0"
   ]
  },
  {
   "cell_type": "markdown",
   "id": "ae185da3",
   "metadata": {},
   "source": [
    "## Conclusão\n",
    "Após a execução de todas as etapas, verificamos se todos os arquivos de saída esperados foram gerados corretamente."
   ]
  },
  {
   "cell_type": "code",
   "execution_count": 12,
   "id": "f7d83e26",
   "metadata": {},
   "outputs": [
    {
     "name": "stdout",
     "output_type": "stream",
     "text": [
      "Pipeline validation completed.\n",
      "All steps ran successfully and outputs are present.\n"
     ]
    }
   ],
   "source": [
    "# Conclusão\n",
    "# all_ok = result.returncode == 0  # Check if the last step ran successfully\n",
    "print(\"Pipeline validation completed.\")\n",
    "if not all_ok:\n",
    "    print(\"Some steps failed or outputs are missing.\")\n",
    "    sys.exit(1)\n",
    "else:\n",
    "    print(\"All steps ran successfully and outputs are present.\")"
   ]
  }
 ],
 "metadata": {
  "kernelspec": {
   "display_name": "venv",
   "language": "python",
   "name": "python3"
  },
  "language_info": {
   "codemirror_mode": {
    "name": "ipython",
    "version": 3
   },
   "file_extension": ".py",
   "mimetype": "text/x-python",
   "name": "python",
   "nbconvert_exporter": "python",
   "pygments_lexer": "ipython3",
   "version": "3.10.10"
  }
 },
 "nbformat": 4,
 "nbformat_minor": 5
}
