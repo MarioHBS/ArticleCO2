{
 "cells": [
  {
   "cell_type": "markdown",
   "id": "8ad60c5f",
   "metadata": {},
   "source": [
    "# Processamento do PIB Municipal\n",
    "Este notebook processa imagens de PIB municipal utilizando OCR e gera um CSV consolidado.\n",
    "\n",
    "### Dados manuais extraídos dos documentos (valores em R$)\n",
    "Fonte: https://www.ibge.gov.br/estatisticas/economicas/contas-nacionais/9088-produto-interno-bruto-dos-municipios.html\n"
   ]
  },
  {
   "cell_type": "code",
   "execution_count": null,
   "id": "c7c45330",
   "metadata": {},
   "outputs": [],
   "source": [
    "# Importação de bibliotecas necessárias\n",
    "import os\n",
    "import re\n",
    "import unicodedata\n",
    "import pandas as pd\n",
    "import easyocr"
   ]
  },
  {
   "cell_type": "markdown",
   "id": "eaa9296b",
   "metadata": {},
   "source": [
    "## Criação da pasta de saída\n",
    "Certifique-se de que a pasta de saída para os dados gerados existe."
   ]
  },
  {
   "cell_type": "code",
   "execution_count": null,
   "id": "4287c005",
   "metadata": {},
   "outputs": [],
   "source": [
    "# Criação da pasta de saída\n",
    "os.makedirs(\"data/generated\", exist_ok=True)\n",
    "\n",
    "imagens = [\n",
    "        (\"data/raw/\", \"pib_alto_parnaiba.png\"),\n",
    "        (\"data/raw/\", \"pib_balsas.png\"),\n",
    "        (\"data/raw/\", \"pib_tasso_fragoso.png\"),\n",
    "    ]"
   ]
  },
  {
   "cell_type": "markdown",
   "id": "e468ba2e",
   "metadata": {},
   "source": [
    "## Função para normalizar strings\n",
    "Remove acentos, pontuações extras e converte para letras minúsculas."
   ]
  },
  {
   "cell_type": "code",
   "execution_count": null,
   "id": "7eaba80c",
   "metadata": {},
   "outputs": [],
   "source": [
    "def strip_accents_and_punct(s: str) -> str:\n",
    "    s = ''.join(c for c in unicodedata.normalize(\"NFD\", s) if unicodedata.category(c) != \"Mn\")\n",
    "    s = re.sub(r'[^A-Za-z0-9 ]+', ' ', s)\n",
    "    return s.lower().strip()"
   ]
  },
  {
   "cell_type": "markdown",
   "id": "05f08062",
   "metadata": {},
   "source": [
    "## Função para processar texto OCR\n",
    "Recebe o texto OCR e retorna os dados estruturados."
   ]
  },
  {
   "cell_type": "code",
   "execution_count": null,
   "id": "636bd115",
   "metadata": {},
   "outputs": [],
   "source": [
    "def parse_municipio(text: str) -> dict:\n",
    "    \"\"\"\n",
    "    Recebe o texto OCR e retorna:\n",
    "      - municipio\n",
    "      - codigo_ibge\n",
    "      - pib_precos_correntes\n",
    "      - impostos_liquidos\n",
    "      - pib_per_capita\n",
    "      - vab_total\n",
    "      - vab_agro\n",
    "      - vab_industria\n",
    "      - vab_servicos\n",
    "      - vab_adm_publica\n",
    "    \"\"\"\n",
    "    linhas = [l.strip() for l in text.splitlines() if l.strip()]\n",
    "    dados = {}\n",
    "\n",
    "    # —————————————\n",
    "    # 1) município e código IBGE na 1ª linha\n",
    "    m = re.match(r\"(.+?)\\s+c[oó]digo[: ]+(\\d+)\", linhas[0], re.IGNORECASE)\n",
    "    if m:\n",
    "        dados[\"municipio\"] = m.group(1).strip()\n",
    "        dados[\"codigo_ibge\"] = m.group(2).strip()\n",
    "\n",
    "    # —————————————\n",
    "    # 2) mapeia substrings para as colunas\n",
    "    mapa = {\n",
    "        \"pib a precos correntes\":  \"pib_precos_correntes\",\n",
    "        \"impostos\":                \"impostos_liquidos\",\n",
    "        \"pib per capita\":          \"pib_per_capita\",\n",
    "        \"valor adicionado bruto\":  \"vab_total\",\n",
    "        \"agropecuaria\":            \"vab_agro\",\n",
    "        \"industria\":               \"vab_industria\",\n",
    "        \"servicos\":                \"vab_servicos\",\n",
    "        \"administracao\":           \"vab_adm_publica\",\n",
    "    }\n",
    "\n",
    "    # percorre cada linha procurando a chave\n",
    "    for i, linha in enumerate(linhas[1:], start=1):\n",
    "        chave_raw = linha\n",
    "        chave = strip_accents_and_punct(chave_raw)\n",
    "\n",
    "        for key, col in mapa.items():\n",
    "            if key in chave:\n",
    "                # tenta pegar número na mesma linha\n",
    "                txt = linha.replace(\" \", \"\")\n",
    "                mnum = re.search(r\"([\\d\\.,]+)\", txt)\n",
    "                # ou na próxima\n",
    "                if not mnum and i+1 < len(linhas):\n",
    "                    mnum = re.search(\n",
    "                        r\"([\\d\\.,]+)\", linhas[i+1].replace(\" \", \"\"))\n",
    "                if mnum:\n",
    "                    num_txt = mnum.group(1).replace(\".\", \"\").replace(\",\", \".\")\n",
    "                    try:\n",
    "                        valor = float(num_txt)\n",
    "                    except ValueError:\n",
    "                        valor = num_txt\n",
    "                else:\n",
    "                    valor = None\n",
    "\n",
    "                dados[col] = valor\n",
    "                print(f\"  • Encontrou {col}: {valor}\")\n",
    "                break\n",
    "\n",
    "    return dados"
   ]
  },
  {
   "cell_type": "markdown",
   "id": "124d3f95",
   "metadata": {},
   "source": [
    "## Iniciar processo da criação dos Dados de Pib Municipal\n",
    "Utiliza OCR para extrair texto das imagens e processa os dados."
   ]
  },
  {
   "cell_type": "code",
   "execution_count": null,
   "id": "0f63d0af",
   "metadata": {},
   "outputs": [],
   "source": [
    "def gerar_dados_pib():\n",
    "    reader = easyocr.Reader([\"pt\"], gpu=False)\n",
    "    registros = []\n",
    "\n",
    "    for folder, filename in imagens:\n",
    "        path = os.path.join(folder, filename)\n",
    "        print(f\"\\n→ Processando {filename}…\")\n",
    "        texto = \"\\n\".join(reader.readtext(path, detail=0, paragraph=True))\n",
    "        print(\"→ Texto bruto OCR:\\n\", texto, \"\\n\")\n",
    "        rec = parse_municipio(texto)\n",
    "        print(\"→ Registro extraído:\", rec)\n",
    "        registros.append(rec)\n",
    "\n",
    "    # monta DataFrame e salva\n",
    "    df = pd.DataFrame(registros)\n",
    "    print(\"\\nColunas detectadas:\", df.columns.tolist())\n",
    "    display(df.head())\n",
    "    df = df[[\n",
    "        \"municipio\", \"codigo_ibge\",\n",
    "        \"pib_precos_correntes\", \"impostos_liquidos\", \"pib_per_capita\",\n",
    "        \"vab_total\", \"vab_agro\", \"vab_industria\", \"vab_servicos\", \"vab_adm_publica\"\n",
    "    ]]\n",
    "    out = \"data/partial/pib_municipal_serra_penitente.csv\"\n",
    "    df.to_csv(out, index=False, encoding=\"utf-8-sig\")\n",
    "    print(f\"\\n✅ CSV gerado em: {out}\")\n",
    "    display(f'✅ CSV gerado em: {out}')"
   ]
  },
  {
   "cell_type": "markdown",
   "id": "7748db56",
   "metadata": {},
   "source": [
    "## Execução do processamento\n",
    "Chama a função principal para processar as imagens."
   ]
  },
  {
   "cell_type": "code",
   "execution_count": null,
   "id": "378e3a20",
   "metadata": {},
   "outputs": [],
   "source": [
    "gerar_dados_pib()"
   ]
  }
 ],
 "metadata": {
  "kernelspec": {
   "display_name": "venv",
   "language": "python",
   "name": "python3"
  },
  "language_info": {
   "codemirror_mode": {
    "name": "ipython",
    "version": 3
   },
   "file_extension": ".py",
   "mimetype": "text/x-python",
   "name": "python",
   "nbconvert_exporter": "python",
   "pygments_lexer": "ipython3",
   "version": "3.10.10"
  }
 },
 "nbformat": 4,
 "nbformat_minor": 5
}
