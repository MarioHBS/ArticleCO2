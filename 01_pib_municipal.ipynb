{
 "cells": [
  {
   "cell_type": "markdown",
   "id": "8ad60c5f",
   "metadata": {},
   "source": [
    "# Processamento do PIB Municipal\n",
    "Este notebook processa imagens de PIB municipal utilizando OCR e gera um CSV consolidado.\n",
    "\n",
    "### Dados manuais extraídos dos documentos (valores em R$)\n",
    "Fonte: https://www.ibge.gov.br/estatisticas/economicas/contas-nacionais/9088-produto-interno-bruto-dos-municipios.html\n"
   ]
  },
  {
   "cell_type": "code",
   "execution_count": 14,
   "id": "c7c45330",
   "metadata": {},
   "outputs": [],
   "source": [
    "# Importação de bibliotecas necessárias\n",
    "import os\n",
    "import re\n",
    "import unicodedata\n",
    "import pandas as pd\n",
    "import easyocr"
   ]
  },
  {
   "cell_type": "markdown",
   "id": "eaa9296b",
   "metadata": {},
   "source": [
    "## Criação da pasta de saída\n",
    "Certifique-se de que a pasta de saída para os dados gerados existe."
   ]
  },
  {
   "cell_type": "code",
   "execution_count": 15,
   "id": "4287c005",
   "metadata": {},
   "outputs": [],
   "source": [
    "# Criação da pasta de saída\n",
    "os.makedirs(\"data/generated\", exist_ok=True)\n",
    "\n",
    "imagens = [\n",
    "        (\"data/raw/\", \"pib_alto_parnaiba.png\"),\n",
    "        (\"data/raw/\", \"pib_balsas.png\"),\n",
    "        (\"data/raw/\", \"pib_tasso_fragoso.png\"),\n",
    "    ]"
   ]
  },
  {
   "cell_type": "markdown",
   "id": "e468ba2e",
   "metadata": {},
   "source": [
    "## Função para normalizar strings\n",
    "Remove acentos, pontuações extras e converte para letras minúsculas."
   ]
  },
  {
   "cell_type": "code",
   "execution_count": 16,
   "id": "7eaba80c",
   "metadata": {},
   "outputs": [],
   "source": [
    "def strip_accents_and_punct(s: str) -> str:\n",
    "    s = ''.join(c for c in unicodedata.normalize(\"NFD\", s) if unicodedata.category(c) != \"Mn\")\n",
    "    s = re.sub(r'[^A-Za-z0-9 ]+', ' ', s)\n",
    "    return s.lower().strip()"
   ]
  },
  {
   "cell_type": "markdown",
   "id": "05f08062",
   "metadata": {},
   "source": [
    "## Função para processar texto OCR\n",
    "Recebe o texto OCR e retorna os dados estruturados."
   ]
  },
  {
   "cell_type": "code",
   "execution_count": 17,
   "id": "636bd115",
   "metadata": {},
   "outputs": [],
   "source": [
    "def parse_municipio(text: str) -> dict:\n",
    "    \"\"\"\n",
    "    Recebe o texto OCR e retorna:\n",
    "      - municipio\n",
    "      - codigo_ibge\n",
    "      - pib_precos_correntes\n",
    "      - impostos_liquidos\n",
    "      - pib_per_capita\n",
    "      - vab_total\n",
    "      - vab_agro\n",
    "      - vab_industria\n",
    "      - vab_servicos\n",
    "      - vab_adm_publica\n",
    "    \"\"\"\n",
    "    linhas = [l.strip() for l in text.splitlines() if l.strip()]\n",
    "    dados = {}\n",
    "\n",
    "    # —————————————\n",
    "    # 1) município e código IBGE na 1ª linha\n",
    "    m = re.match(r\"(.+?)\\s+c[oó]digo[: ]+(\\d+)\", linhas[0], re.IGNORECASE)\n",
    "    if m:\n",
    "        dados[\"municipio\"] = m.group(1).strip()\n",
    "        dados[\"codigo_ibge\"] = m.group(2).strip()\n",
    "\n",
    "    # —————————————\n",
    "    # 2) mapeia substrings para as colunas\n",
    "    mapa = {\n",
    "        \"pib a precos correntes\":  \"pib_precos_correntes\",\n",
    "        \"impostos\":                \"impostos_liquidos\",\n",
    "        \"pib per capita\":          \"pib_per_capita\",\n",
    "        \"valor adicionado bruto\":  \"vab_total\",\n",
    "        \"agropecuaria\":            \"vab_agro\",\n",
    "        \"industria\":               \"vab_industria\",\n",
    "        \"servicos\":                \"vab_servicos\",\n",
    "        \"administracao\":           \"vab_adm_publica\",\n",
    "    }\n",
    "\n",
    "    # percorre cada linha procurando a chave\n",
    "    for i, linha in enumerate(linhas[1:], start=1):\n",
    "        chave_raw = linha\n",
    "        chave = strip_accents_and_punct(chave_raw)\n",
    "\n",
    "        for key, col in mapa.items():\n",
    "            if key in chave:\n",
    "                # tenta pegar número na mesma linha\n",
    "                txt = linha.replace(\" \", \"\")\n",
    "                mnum = re.search(r\"([\\d\\.,]+)\", txt)\n",
    "                # ou na próxima\n",
    "                if not mnum and i+1 < len(linhas):\n",
    "                    mnum = re.search(\n",
    "                        r\"([\\d\\.,]+)\", linhas[i+1].replace(\" \", \"\"))\n",
    "                if mnum:\n",
    "                    num_txt = mnum.group(1).replace(\".\", \"\").replace(\",\", \".\")\n",
    "                    try:\n",
    "                        valor = float(num_txt)\n",
    "                    except ValueError:\n",
    "                        valor = num_txt\n",
    "                else:\n",
    "                    valor = None\n",
    "\n",
    "                dados[col] = valor\n",
    "                print(f\"  • Encontrou {col}: {valor}\")\n",
    "                break\n",
    "\n",
    "    return dados"
   ]
  },
  {
   "cell_type": "markdown",
   "id": "124d3f95",
   "metadata": {},
   "source": [
    "## Iniciar processo da criação dos Dados de Pib Municipal\n",
    "Utiliza OCR para extrair texto das imagens e processa os dados."
   ]
  },
  {
   "cell_type": "code",
   "execution_count": null,
   "id": "0f63d0af",
   "metadata": {},
   "outputs": [],
   "source": [
    "def gerar_dados_pib():\n",
    "    reader = easyocr.Reader([\"pt\"], gpu=False)\n",
    "    registros = []\n",
    "\n",
    "    for folder, filename in imagens:\n",
    "        path = os.path.join(folder, filename)\n",
    "        print(f\"\\n→ Processando {filename}…\")\n",
    "        texto = \"\\n\".join(reader.readtext(path, detail=0, paragraph=True))\n",
    "        print(\"→ Texto bruto OCR:\\n\", texto, \"\\n\")\n",
    "        rec = parse_municipio(texto)\n",
    "        print(\"→ Registro extraído:\", rec)\n",
    "        registros.append(rec)\n",
    "\n",
    "    # monta DataFrame e salva\n",
    "    df = pd.DataFrame(registros)\n",
    "    print(\"\\nColunas detectadas:\", df.columns.tolist())\n",
    "    df = df[[\n",
    "        \"municipio\", \"codigo_ibge\",\n",
    "        \"pib_precos_correntes\", \"impostos_liquidos\", \"pib_per_capita\",\n",
    "        \"vab_total\", \"vab_agro\", \"vab_industria\", \"vab_servicos\", \"vab_adm_publica\"\n",
    "    ]]\n",
    "    out = \"data/generated/pib_municipal_serra_penitente.csv\"\n",
    "    df.to_csv(out, index=False, encoding=\"utf-8-sig\")\n",
    "    print(f\"\\n✅ CSV gerado em: {out}\")\n",
    "    display(f'✅ CSV gerado em: {out}')"
   ]
  },
  {
   "cell_type": "markdown",
   "id": "7748db56",
   "metadata": {},
   "source": [
    "## Execução do processamento\n",
    "Chama a função principal para processar as imagens."
   ]
  },
  {
   "cell_type": "code",
   "execution_count": 19,
   "id": "378e3a20",
   "metadata": {},
   "outputs": [
    {
     "name": "stderr",
     "output_type": "stream",
     "text": [
      "Using CPU. Note: This module is much faster with a GPU.\n"
     ]
    },
    {
     "name": "stdout",
     "output_type": "stream",
     "text": [
      "\n",
      "→ Processando pib_alto_parnaiba.png…\n"
     ]
    },
    {
     "name": "stderr",
     "output_type": "stream",
     "text": [
      "p:\\ProjectsPython\\trabalho_Felipe_CO2\\venv\\lib\\site-packages\\torch\\utils\\data\\dataloader.py:665: UserWarning: 'pin_memory' argument is set as true but no accelerator is found, then device pinned memory won't be used.\n",
      "  warnings.warn(warn_msg)\n"
     ]
    },
    {
     "name": "stdout",
     "output_type": "stream",
     "text": [
      "→ Texto bruto OCR:\n",
      " Alto Parnaiba código: 2100501\n",
      "PIB a preços correntes\n",
      "578.991,387 RS {x1coo) [2021]\n",
      "Impostos; liquidos de subsidios; sobre produtos preços correntes\n",
      "19926,06 RS (x1ooo) 12021\n",
      "PIB per capita\n",
      "51543 79 RS 12021]\n",
      "Valor adicionado bruto preços correntes\n",
      "559.065.326 RS {x1coo} 2021l\n",
      "Agropecuária\n",
      "362.237,776 Rf (xiooc) [2021\n",
      "Indústria\n",
      "34198.51 RS (x1coo) 2021\n",
      "Serviços Exclusive Administração; defesa educação saúde públicas seguridade social\n",
      "105145.7 RS (ioco)  12021\n",
      "Administração; defesa; educação saúde públicas e seguridade social\n",
      "57.283.34 RS (x1oco) 12021l \n",
      "\n",
      "  • Encontrou pib_precos_correntes: 578991.387\n",
      "  • Encontrou impostos_liquidos: 19926.06\n",
      "  • Encontrou pib_per_capita: 5154379.0\n",
      "  • Encontrou vab_total: 559065326.0\n",
      "  • Encontrou vab_agro: 362237.776\n",
      "  • Encontrou vab_industria: 3419851.0\n",
      "  • Encontrou vab_servicos: 1051457.0\n",
      "  • Encontrou vab_adm_publica: 5728334.0\n",
      "→ Registro extraído: {'municipio': 'Alto Parnaiba', 'codigo_ibge': '2100501', 'pib_precos_correntes': 578991.387, 'impostos_liquidos': 19926.06, 'pib_per_capita': 5154379.0, 'vab_total': 559065326.0, 'vab_agro': 362237.776, 'vab_industria': 3419851.0, 'vab_servicos': 1051457.0, 'vab_adm_publica': 5728334.0}\n",
      "\n",
      "→ Processando pib_balsas.png…\n"
     ]
    },
    {
     "name": "stderr",
     "output_type": "stream",
     "text": [
      "p:\\ProjectsPython\\trabalho_Felipe_CO2\\venv\\lib\\site-packages\\torch\\utils\\data\\dataloader.py:665: UserWarning: 'pin_memory' argument is set as true but no accelerator is found, then device pinned memory won't be used.\n",
      "  warnings.warn(warn_msg)\n"
     ]
    },
    {
     "name": "stdout",
     "output_type": "stream",
     "text": [
      "→ Texto bruto OCR:\n",
      " Balsas código 2101400\n",
      "PIB a preços correntes\n",
      "6.307.609.556 RS {x1ooo}   120z1l\n",
      "Impostos; liquidos de subsidios; sobre produtos; preços correntes\n",
      "847087,908 RS (x1ooc}  [2021]\n",
      "PIB per capita\n",
      "65.059.77 RS 12021]\n",
      "Valor adicionado bruto preços correntes\n",
      "5.260.521,648 RS {x1coo} [2021l\n",
      "Agropecuária\n",
      "893662,.254 RS (x1ooo) 12021]\n",
      "Indústria\n",
      "251291,233 RS {(x1coo} [2021l\n",
      "Serviços Exclusive Administração; defesa; educação saúde públicas seguridade social\n",
      "2906.431136 RS {x1ooo} i2021l\n",
      "Administração; defesa; educação saude públicas seguridade social\n",
      "409.136 82 RS (xloco)  12o21 \n",
      "\n",
      "  • Encontrou pib_precos_correntes: 6307609556.0\n",
      "  • Encontrou impostos_liquidos: 847087.908\n",
      "  • Encontrou pib_per_capita: 6505977.0\n",
      "  • Encontrou vab_total: 5260521.648\n",
      "  • Encontrou vab_agro: 893662.254\n",
      "  • Encontrou vab_industria: 251291.233\n",
      "  • Encontrou vab_servicos: 2906431136.0\n",
      "  • Encontrou vab_adm_publica: 40913682.0\n",
      "→ Registro extraído: {'municipio': 'Balsas', 'codigo_ibge': '2101400', 'pib_precos_correntes': 6307609556.0, 'impostos_liquidos': 847087.908, 'pib_per_capita': 6505977.0, 'vab_total': 5260521.648, 'vab_agro': 893662.254, 'vab_industria': 251291.233, 'vab_servicos': 2906431136.0, 'vab_adm_publica': 40913682.0}\n",
      "\n",
      "→ Processando pib_tasso_fragoso.png…\n"
     ]
    },
    {
     "name": "stderr",
     "output_type": "stream",
     "text": [
      "p:\\ProjectsPython\\trabalho_Felipe_CO2\\venv\\lib\\site-packages\\torch\\utils\\data\\dataloader.py:665: UserWarning: 'pin_memory' argument is set as true but no accelerator is found, then device pinned memory won't be used.\n",
      "  warnings.warn(warn_msg)\n"
     ]
    },
    {
     "name": "stdout",
     "output_type": "stream",
     "text": [
      "→ Texto bruto OCR:\n",
      " Tasso Fragoso código: 2112001\n",
      "PIB a preços correntes\n",
      "2351251,559 RS (x1coo) [2021l\n",
      "Impostos; liquidos de subsidios; sobre produtos; preços correntes\n",
      "54.579 928 RS {xicoo} [2021]\n",
      "PIB per capita\n",
      "272 095.76 RS [2021]\n",
      "Valor adicionado bruto preços correntes\n",
      "2296.871,631 Rf (x1ooc) 12021]\n",
      "Agropecuária\n",
      "1863065.762 RS {x1ooo} i2021l\n",
      "Indústria\n",
      "67993,254 RS {x1ooo} 12021/\n",
      "Serviços Exclusive Administração; defesa; educação saúde públicas seguridade social\n",
      "314491132 RS {x1ooo} 12021l\n",
      "Administração; defesa; educação saúde públicas seguridade social\n",
      "51321,283 RS (xicoo} [2021] \n",
      "\n",
      "  • Encontrou pib_precos_correntes: 2351251.559\n",
      "  • Encontrou impostos_liquidos: 54579928.0\n",
      "  • Encontrou pib_per_capita: 27209576.0\n",
      "  • Encontrou vab_total: 2296871.631\n",
      "  • Encontrou vab_agro: 1863065762.0\n",
      "  • Encontrou vab_industria: 67993.254\n",
      "  • Encontrou vab_servicos: 314491132.0\n",
      "  • Encontrou vab_adm_publica: 51321.283\n",
      "→ Registro extraído: {'municipio': 'Tasso Fragoso', 'codigo_ibge': '2112001', 'pib_precos_correntes': 2351251.559, 'impostos_liquidos': 54579928.0, 'pib_per_capita': 27209576.0, 'vab_total': 2296871.631, 'vab_agro': 1863065762.0, 'vab_industria': 67993.254, 'vab_servicos': 314491132.0, 'vab_adm_publica': 51321.283}\n",
      "\n",
      "Colunas detectadas: ['municipio', 'codigo_ibge', 'pib_precos_correntes', 'impostos_liquidos', 'pib_per_capita', 'vab_total', 'vab_agro', 'vab_industria', 'vab_servicos', 'vab_adm_publica']\n",
      "\n",
      "✅ CSV gerado em: data/generated/pib_municipal_serra_penitente.csv\n"
     ]
    },
    {
     "data": {
      "text/plain": [
       "'\\n✅ CSV gerado em: data/generated/pib_municipal_serra_penitente.csv'"
      ]
     },
     "metadata": {},
     "output_type": "display_data"
    }
   ],
   "source": [
    "gerar_dados_pib()"
   ]
  }
 ],
 "metadata": {
  "kernelspec": {
   "display_name": "venv",
   "language": "python",
   "name": "python3"
  },
  "language_info": {
   "codemirror_mode": {
    "name": "ipython",
    "version": 3
   },
   "file_extension": ".py",
   "mimetype": "text/x-python",
   "name": "python",
   "nbconvert_exporter": "python",
   "pygments_lexer": "ipython3",
   "version": "3.10.10"
  }
 },
 "nbformat": 4,
 "nbformat_minor": 5
}
