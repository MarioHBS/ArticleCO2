{
 "cells": [
  {
   "cell_type": "markdown",
   "id": "3bec2184",
   "metadata": {},
   "source": [
    "# Processamento de Dados de Emissões de GEE para a Serra do Penitente\n",
    "Este notebook processa os dados de emissões de GEE (Gases de Efeito Estufa) para os municípios da Serra do Penitente com base nos dados do SEEG."
   ]
  },
  {
   "cell_type": "code",
   "execution_count": 1,
   "id": "e62dc8b1",
   "metadata": {},
   "outputs": [],
   "source": [
    "# Importar bibliotecas necessárias\n",
    "import pandas as pd\n",
    "import os"
   ]
  },
  {
   "cell_type": "code",
   "execution_count": 2,
   "id": "b3c6f5ef",
   "metadata": {},
   "outputs": [],
   "source": [
    "# Criar diretório de saída se não existir\n",
    "os.makedirs(\"data/generated\", exist_ok=True)"
   ]
  },
  {
   "cell_type": "code",
   "execution_count": 3,
   "id": "2cc2c4cb",
   "metadata": {},
   "outputs": [],
   "source": [
    "# Caminho local do arquivo SEEG (formato .xlsx)\n",
    "seeg_path = \"data/SEEG-12-dados-municipais.xlsx\""
   ]
  },
  {
   "cell_type": "code",
   "execution_count": 4,
   "id": "3fe55892",
   "metadata": {},
   "outputs": [],
   "source": [
    "# Municípios da Serra do Penitente\n",
    "municipios_alvo = [\"Balsas (MA)\", \"Tasso Fragoso (MA)\", \"Alto Parnaíba (MA)\"]"
   ]
  },
  {
   "cell_type": "code",
   "execution_count": 5,
   "id": "06a89190",
   "metadata": {},
   "outputs": [
    {
     "name": "stdout",
     "output_type": "stream",
     "text": [
      "  Emissão/Remoção/Bunker Setor de emissão Categoria emissora  \\\n",
      "0                Emissão     Agropecuária   Cultivo de arroz   \n",
      "1                Emissão     Agropecuária   Cultivo de arroz   \n",
      "2                Emissão     Agropecuária   Cultivo de arroz   \n",
      "3                Emissão     Agropecuária   Cultivo de arroz   \n",
      "4                Emissão     Agropecuária   Cultivo de arroz   \n",
      "\n",
      "                 Sub-categoria emissora  Recorte Atividade geral Estado  \\\n",
      "0  Cultivo em sistema irrigado inundado  Diretas     Agricultura   Acre   \n",
      "1  Cultivo em sistema irrigado inundado  Diretas     Agricultura   Acre   \n",
      "2  Cultivo em sistema irrigado inundado  Diretas     Agricultura   Acre   \n",
      "3  Cultivo em sistema irrigado inundado  Diretas     Agricultura   Acre   \n",
      "4  Cultivo em sistema irrigado inundado  Diretas     Agricultura   Acre   \n",
      "\n",
      "           Município  ID Território  1970  ...  2014  2015  2016  2017  2018  \\\n",
      "0    Acrelândia (AC)       11200013   0.0  ...   0.0   0.0   0.0   0.0   0.0   \n",
      "1  Assis Brasil (AC)       11200054   0.0  ...   0.0   0.0   0.0   0.0   0.0   \n",
      "2     Brasiléia (AC)       11200104   0.0  ...   0.0   0.0   0.0   0.0   0.0   \n",
      "3        Bujari (AC)       11200138   0.0  ...   0.0   0.0   0.0   0.0   0.0   \n",
      "4      Capixaba (AC)       11200179   0.0  ...   0.0   0.0   0.0   0.0   0.0   \n",
      "\n",
      "   2019  2020  2021  2022  2023  \n",
      "0   0.0   0.0   0.0   0.0   0.0  \n",
      "1   0.0   0.0   0.0   0.0   0.0  \n",
      "2   0.0   0.0   0.0   0.0   0.0  \n",
      "3   0.0   0.0   0.0   0.0   0.0  \n",
      "4   0.0   0.0   0.0   0.0   0.0  \n",
      "\n",
      "[5 rows x 63 columns]\n"
     ]
    }
   ],
   "source": [
    "# Carregar planilha correta (ajustar nome se necessário)\n",
    "df = pd.read_excel(seeg_path, sheet_name=\"Dados\")\n",
    "print(df.head())"
   ]
  },
  {
   "cell_type": "code",
   "execution_count": 6,
   "id": "66246014",
   "metadata": {},
   "outputs": [
    {
     "name": "stdout",
     "output_type": "stream",
     "text": [
      "     Emissão/Remoção/Bunker Setor de emissão    Categoria emissora  \\\n",
      "1136                Emissão     Agropecuária      Cultivo de arroz   \n",
      "1151                Emissão     Agropecuária      Cultivo de arroz   \n",
      "1329                Emissão     Agropecuária      Cultivo de arroz   \n",
      "6706                Emissão     Agropecuária  Fermentação entérica   \n",
      "6721                Emissão     Agropecuária  Fermentação entérica   \n",
      "\n",
      "                          Sub-categoria emissora  Recorte Atividade geral  \\\n",
      "1136        Cultivo em sistema irrigado inundado  Diretas     Agricultura   \n",
      "1151        Cultivo em sistema irrigado inundado  Diretas     Agricultura   \n",
      "1329        Cultivo em sistema irrigado inundado  Diretas     Agricultura   \n",
      "6706  Processo de digestão de animais ruminantes  Diretas        Pecuária   \n",
      "6721  Processo de digestão de animais ruminantes  Diretas        Pecuária   \n",
      "\n",
      "        Estado           Município  ID Território          1970  ...  \\\n",
      "1136  Maranhão  Alto Parnaíba (MA)       12100501     40.694441  ...   \n",
      "1151  Maranhão         Balsas (MA)       12101400     82.436357  ...   \n",
      "1329  Maranhão  Tasso Fragoso (MA)       12112001     29.329327  ...   \n",
      "6706  Maranhão  Alto Parnaíba (MA)       12100501  39123.239960  ...   \n",
      "6721  Maranhão         Balsas (MA)       12101400  39654.606320  ...   \n",
      "\n",
      "              2014          2015           2016           2017           2018  \\\n",
      "1136    141.032631    189.263068      81.884903      31.703069     211.170719   \n",
      "1151    260.286211    349.264453     150.831992      83.696103     263.643443   \n",
      "1329    121.112768    162.439858      70.093477      27.137827      27.388202   \n",
      "6706  61281.846920  56782.339320   63617.668240   70369.766040   72404.542840   \n",
      "6721  94539.769240  97026.555080  109183.693080  114874.733960  116296.622680   \n",
      "\n",
      "               2019           2020           2021           2022  \\\n",
      "1136     278.307719     283.937288     268.853686     376.671606   \n",
      "1151     347.417690     336.112963     324.097594     381.103037   \n",
      "1329      36.422822      37.128758      35.908540      44.314307   \n",
      "6706   72065.374360   76651.742160   77411.586000   86299.928400   \n",
      "6721  120505.167160  126204.710240  135546.344360  152548.576600   \n",
      "\n",
      "               2023  \n",
      "1136     441.382717  \n",
      "1151     516.537072  \n",
      "1329      72.172039  \n",
      "6706   89409.101600  \n",
      "6721  189234.229800  \n",
      "\n",
      "[5 rows x 63 columns]\n"
     ]
    }
   ],
   "source": [
    "# Filtrar apenas os municípios desejados\n",
    "df_municipios = df[df[\"Município\"].isin(municipios_alvo)]\n",
    "print(df_municipios.head())"
   ]
  },
  {
   "cell_type": "code",
   "execution_count": 7,
   "id": "76aa03a7",
   "metadata": {},
   "outputs": [
    {
     "name": "stdout",
     "output_type": "stream",
     "text": [
      "            Município    Estado                     Ano GEE_tCO2e\n",
      "0  Alto Parnaíba (MA)  Maranhão  Emissão/Remoção/Bunker   Emissão\n",
      "1         Balsas (MA)  Maranhão  Emissão/Remoção/Bunker   Emissão\n",
      "2  Tasso Fragoso (MA)  Maranhão  Emissão/Remoção/Bunker   Emissão\n",
      "3  Alto Parnaíba (MA)  Maranhão  Emissão/Remoção/Bunker   Emissão\n",
      "4         Balsas (MA)  Maranhão  Emissão/Remoção/Bunker   Emissão\n"
     ]
    }
   ],
   "source": [
    "# Manter apenas anos válidos\n",
    "df_long = df_municipios.melt(\n",
    "    id_vars=[\"Município\", \"Estado\"],\n",
    "    var_name=\"Ano\",\n",
    "    value_name=\"GEE_tCO2e\"\n",
    ")\n",
    "print(df_long.head())"
   ]
  },
  {
   "cell_type": "code",
   "execution_count": 8,
   "id": "3f53fede",
   "metadata": {},
   "outputs": [
    {
     "name": "stdout",
     "output_type": "stream",
     "text": [
      "               Município    Estado   Ano     GEE_tCO2e\n",
      "1400  Alto Parnaíba (MA)  Maranhão  1970     40.694441\n",
      "1401         Balsas (MA)  Maranhão  1970     82.436357\n",
      "1402  Tasso Fragoso (MA)  Maranhão  1970     29.329327\n",
      "1403  Alto Parnaíba (MA)  Maranhão  1970  39123.239960\n",
      "1404         Balsas (MA)  Maranhão  1970  39654.606320\n",
      "\n"
     ]
    }
   ],
   "source": [
    "# Transformar colunas de ano em formato long\n",
    "df_long = df_long[df_long[\"Ano\"].astype(str).str.isnumeric()]\n",
    "df_long[\"Ano\"] = df_long[\"Ano\"].astype(int)\n",
    "df_long[\"GEE_tCO2e\"] = pd.to_numeric(df_long[\"GEE_tCO2e\"], errors=\"coerce\")\n",
    "print(df_long.head())"
   ]
  },
  {
   "cell_type": "code",
   "execution_count": 9,
   "id": "78fbf197",
   "metadata": {},
   "outputs": [
    {
     "name": "stdout",
     "output_type": "stream",
     "text": [
      "            Município   Ano     GEE_tCO2e\n",
      "0  Alto Parnaíba (MA)  1970  52853.898162\n",
      "1  Alto Parnaíba (MA)  1971  54970.857021\n",
      "2  Alto Parnaíba (MA)  1972  57236.913124\n",
      "3  Alto Parnaíba (MA)  1973  59529.418663\n",
      "4  Alto Parnaíba (MA)  1974  61792.350424\n"
     ]
    }
   ],
   "source": [
    "# Agrupar total por município-ano\n",
    "df_grouped = df_long.groupby([\"Município\", \"Ano\"], as_index=False)[\"GEE_tCO2e\"].sum()\n",
    "print(df_grouped.head())"
   ]
  },
  {
   "cell_type": "code",
   "execution_count": 10,
   "id": "19081c68",
   "metadata": {},
   "outputs": [
    {
     "name": "stdout",
     "output_type": "stream",
     "text": [
      "✅ Dataset gerado: data/generated/gee_serra_penitente.csv\n"
     ]
    }
   ],
   "source": [
    "# Salvar o dataset final\n",
    "df_grouped.to_csv(\"data/generated/gee_serra_penitente.csv\", index=False)\n",
    "print(\"✅ Dataset gerado: data/generated/gee_serra_penitente.csv\")"
   ]
  },
  {
   "cell_type": "code",
   "execution_count": 12,
   "id": "2e88f48b",
   "metadata": {},
   "outputs": [
    {
     "data": {
      "text/html": [
       "<div>\n",
       "<style scoped>\n",
       "    .dataframe tbody tr th:only-of-type {\n",
       "        vertical-align: middle;\n",
       "    }\n",
       "\n",
       "    .dataframe tbody tr th {\n",
       "        vertical-align: top;\n",
       "    }\n",
       "\n",
       "    .dataframe thead th {\n",
       "        text-align: right;\n",
       "    }\n",
       "</style>\n",
       "<table border=\"1\" class=\"dataframe\">\n",
       "  <thead>\n",
       "    <tr style=\"text-align: right;\">\n",
       "      <th></th>\n",
       "      <th>Município</th>\n",
       "      <th>Ano</th>\n",
       "      <th>GEE_tCO2e</th>\n",
       "    </tr>\n",
       "  </thead>\n",
       "  <tbody>\n",
       "    <tr>\n",
       "      <th>0</th>\n",
       "      <td>Alto Parnaíba (MA)</td>\n",
       "      <td>1970</td>\n",
       "      <td>52853.898162</td>\n",
       "    </tr>\n",
       "    <tr>\n",
       "      <th>1</th>\n",
       "      <td>Alto Parnaíba (MA)</td>\n",
       "      <td>1971</td>\n",
       "      <td>54970.857021</td>\n",
       "    </tr>\n",
       "    <tr>\n",
       "      <th>2</th>\n",
       "      <td>Alto Parnaíba (MA)</td>\n",
       "      <td>1972</td>\n",
       "      <td>57236.913124</td>\n",
       "    </tr>\n",
       "    <tr>\n",
       "      <th>3</th>\n",
       "      <td>Alto Parnaíba (MA)</td>\n",
       "      <td>1973</td>\n",
       "      <td>59529.418663</td>\n",
       "    </tr>\n",
       "    <tr>\n",
       "      <th>4</th>\n",
       "      <td>Alto Parnaíba (MA)</td>\n",
       "      <td>1974</td>\n",
       "      <td>61792.350424</td>\n",
       "    </tr>\n",
       "    <tr>\n",
       "      <th>5</th>\n",
       "      <td>Alto Parnaíba (MA)</td>\n",
       "      <td>1975</td>\n",
       "      <td>72835.033601</td>\n",
       "    </tr>\n",
       "    <tr>\n",
       "      <th>6</th>\n",
       "      <td>Alto Parnaíba (MA)</td>\n",
       "      <td>1976</td>\n",
       "      <td>77885.193454</td>\n",
       "    </tr>\n",
       "    <tr>\n",
       "      <th>7</th>\n",
       "      <td>Alto Parnaíba (MA)</td>\n",
       "      <td>1977</td>\n",
       "      <td>80968.095115</td>\n",
       "    </tr>\n",
       "    <tr>\n",
       "      <th>8</th>\n",
       "      <td>Alto Parnaíba (MA)</td>\n",
       "      <td>1978</td>\n",
       "      <td>85308.073464</td>\n",
       "    </tr>\n",
       "    <tr>\n",
       "      <th>9</th>\n",
       "      <td>Alto Parnaíba (MA)</td>\n",
       "      <td>1979</td>\n",
       "      <td>80624.422426</td>\n",
       "    </tr>\n",
       "  </tbody>\n",
       "</table>\n",
       "</div>"
      ],
      "text/plain": [
       "            Município   Ano     GEE_tCO2e\n",
       "0  Alto Parnaíba (MA)  1970  52853.898162\n",
       "1  Alto Parnaíba (MA)  1971  54970.857021\n",
       "2  Alto Parnaíba (MA)  1972  57236.913124\n",
       "3  Alto Parnaíba (MA)  1973  59529.418663\n",
       "4  Alto Parnaíba (MA)  1974  61792.350424\n",
       "5  Alto Parnaíba (MA)  1975  72835.033601\n",
       "6  Alto Parnaíba (MA)  1976  77885.193454\n",
       "7  Alto Parnaíba (MA)  1977  80968.095115\n",
       "8  Alto Parnaíba (MA)  1978  85308.073464\n",
       "9  Alto Parnaíba (MA)  1979  80624.422426"
      ]
     },
     "metadata": {},
     "output_type": "display_data"
    }
   ],
   "source": [
    "# print(df_grouped.head(10))\n",
    "display(df_grouped.head(10))"
   ]
  }
 ],
 "metadata": {
  "kernelspec": {
   "display_name": "venv",
   "language": "python",
   "name": "python3"
  },
  "language_info": {
   "codemirror_mode": {
    "name": "ipython",
    "version": 3
   },
   "file_extension": ".py",
   "mimetype": "text/x-python",
   "name": "python",
   "nbconvert_exporter": "python",
   "pygments_lexer": "ipython3",
   "version": "3.10.10"
  }
 },
 "nbformat": 4,
 "nbformat_minor": 5
}
