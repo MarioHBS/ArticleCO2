{
 "cells": [
  {
   "cell_type": "markdown",
   "id": "3bec2184",
   "metadata": {},
   "source": [
    "# Processamento de Dados de Emissões de GEE para a Serra do Penitente\n",
    "Este notebook processa os dados de emissões de GEE (Gases de Efeito Estufa) para os municípios da Serra do Penitente com base nos dados do SEEG."
   ]
  },
  {
   "cell_type": "code",
   "execution_count": null,
   "id": "e62dc8b1",
   "metadata": {},
   "outputs": [],
   "source": [
    "# Importar bibliotecas necessárias\n",
    "import pandas as pd\n",
    "import os"
   ]
  },
  {
   "cell_type": "code",
   "execution_count": null,
   "id": "b3c6f5ef",
   "metadata": {},
   "outputs": [],
   "source": [
    "# Criar diretório de saída se não existir\n",
    "os.makedirs(\"data/partial\", exist_ok=True)"
   ]
  },
  {
   "cell_type": "code",
   "execution_count": null,
   "id": "2cc2c4cb",
   "metadata": {},
   "outputs": [],
   "source": [
    "# Caminho local do arquivo SEEG (formato .xlsx)\n",
    "seeg_path = \"data/SEEG-12-dados-municipais.xlsx\""
   ]
  },
  {
   "cell_type": "code",
   "execution_count": null,
   "id": "3fe55892",
   "metadata": {},
   "outputs": [],
   "source": [
    "# Municípios da Serra do Penitente\n",
    "municipios_alvo = [\"Balsas (MA)\", \"Tasso Fragoso (MA)\", \"Alto Parnaíba (MA)\"]"
   ]
  },
  {
   "cell_type": "code",
   "execution_count": null,
   "id": "06a89190",
   "metadata": {},
   "outputs": [],
   "source": [
    "# Carregar planilha correta (ajustar nome se necessário)\n",
    "df = pd.read_excel(seeg_path, sheet_name=\"Dados\")\n",
    "print(df.head())"
   ]
  },
  {
   "cell_type": "code",
   "execution_count": null,
   "id": "66246014",
   "metadata": {},
   "outputs": [],
   "source": [
    "# Filtrar apenas os municípios desejados\n",
    "df_municipios = df[df[\"Município\"].isin(municipios_alvo)]\n",
    "print(df_municipios.head())"
   ]
  },
  {
   "cell_type": "code",
   "execution_count": null,
   "id": "76aa03a7",
   "metadata": {},
   "outputs": [],
   "source": [
    "# Manter apenas anos válidos\n",
    "df_long = df_municipios.melt(\n",
    "    id_vars=[\"Município\", \"Estado\"],\n",
    "    var_name=\"Ano\",\n",
    "    value_name=\"GEE_tCO2e\"\n",
    ")\n",
    "print(df_long.head())"
   ]
  },
  {
   "cell_type": "code",
   "execution_count": null,
   "id": "3f53fede",
   "metadata": {},
   "outputs": [],
   "source": [
    "# Transformar colunas de ano em formato long\n",
    "df_long = df_long[df_long[\"Ano\"].astype(str).str.isnumeric()]\n",
    "df_long[\"Ano\"] = df_long[\"Ano\"].astype(int)\n",
    "df_long[\"GEE_tCO2e\"] = pd.to_numeric(df_long[\"GEE_tCO2e\"], errors=\"coerce\")\n",
    "print(df_long.head())"
   ]
  },
  {
   "cell_type": "code",
   "execution_count": null,
   "id": "78fbf197",
   "metadata": {},
   "outputs": [],
   "source": [
    "# Agrupar total por município-ano\n",
    "df_grouped = df_long.groupby([\"Município\", \"Ano\"], as_index=False)[\"GEE_tCO2e\"].sum()\n",
    "print(df_grouped.head())"
   ]
  },
  {
   "cell_type": "code",
   "execution_count": null,
   "id": "19081c68",
   "metadata": {},
   "outputs": [],
   "source": [
    "# Salvar o dataset final\n",
    "df_grouped.to_csv(\"data/partial/gee_serra_penitente.csv\", index=False)\n",
    "print(\"✅ Dataset gerado: data/partial/gee_serra_penitente.csv\")"
   ]
  },
  {
   "cell_type": "code",
   "execution_count": null,
   "id": "2e88f48b",
   "metadata": {},
   "outputs": [],
   "source": [
    "# print(df_grouped.head(10))\n",
    "display(df_grouped.head(10))"
   ]
  }
 ],
 "metadata": {
  "kernelspec": {
   "display_name": "venv",
   "language": "python",
   "name": "python3"
  },
  "language_info": {
   "codemirror_mode": {
    "name": "ipython",
    "version": 3
   },
   "file_extension": ".py",
   "mimetype": "text/x-python",
   "name": "python",
   "nbconvert_exporter": "python",
   "pygments_lexer": "ipython3",
   "version": "3.10.10"
  }
 },
 "nbformat": 4,
 "nbformat_minor": 5
}
