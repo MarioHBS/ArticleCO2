{
 "cells": [
  {
   "cell_type": "markdown",
   "id": "ca3b4bf8",
   "metadata": {},
   "source": [
    "# Filtragem e Análise de Dados de Desmatamento\n",
    "Este notebook realiza a filtragem e análise de dados de desmatamento para os municípios da Serra do Penitente."
   ]
  },
  {
   "cell_type": "code",
   "execution_count": 1,
   "id": "9f49fd3f",
   "metadata": {},
   "outputs": [],
   "source": [
    "# Importar bibliotecas necessárias\n",
    "import pandas as pd\n",
    "import os\n",
    "import matplotlib.pyplot as plt\n",
    "import seaborn as sns"
   ]
  },
  {
   "cell_type": "code",
   "execution_count": 2,
   "id": "88c83893",
   "metadata": {},
   "outputs": [],
   "source": [
    "# Criar diretórios de saída\n",
    "os.makedirs(\"data/generated\", exist_ok=True)\n",
    "os.makedirs(\"results/figures\", exist_ok=True)"
   ]
  },
  {
   "cell_type": "markdown",
   "id": "2880afe3",
   "metadata": {},
   "source": [
    "## Carregar o arquivo de dados de desmatamento\n",
    "Carregamos o arquivo CSV gerado pelo MapBiomas contendo os alertas de desmatamento."
   ]
  },
  {
   "cell_type": "code",
   "execution_count": null,
   "id": "b9539b62",
   "metadata": {},
   "outputs": [],
   "source": [
    "# Caminho do arquivo de entrada\n",
    "input_path = \"data/downloads/alertas_mapbiomas.csv\"\n",
    "df = pd.read_csv(input_path)\n",
    "print(\"Colunas disponíveis:\", df.columns.tolist())"
   ]
  },
  {
   "cell_type": "markdown",
   "id": "9f1f8752",
   "metadata": {},
   "source": [
    "## Identificar colunas relevantes\n",
    "Identificamos automaticamente as colunas que contêm informações sobre município, ano e área desmatada."
   ]
  },
  {
   "cell_type": "code",
   "execution_count": null,
   "id": "2697f682",
   "metadata": {},
   "outputs": [],
   "source": [
    "# Inferir nomes das colunas automaticamente\n",
    "municipio_col = None\n",
    "ano_col = None\n",
    "area_col = None\n",
    "for col in df.columns:\n",
    "    if \"municip\" in col.lower():\n",
    "        municipio_col = col\n",
    "    if \"ano\" in col.lower() or \"year\" in col.lower():\n",
    "        ano_col = col\n",
    "    if \"area\" in col.lower() and (\"ha\" in col.lower() or \"desmatada\" in col.lower()):\n",
    "        area_col = col\n",
    "if not all([municipio_col, ano_col, area_col]):\n",
    "    raise ValueError(\"Não foi possível identificar as colunas corretas. Verifique o CSV.\")\n",
    "print(f\"Usando as colunas: Município = {municipio_col}, Ano = {ano_col}, Área Desmatada = {area_col}\")"
   ]
  },
  {
   "cell_type": "markdown",
   "id": "efecf248",
   "metadata": {},
   "source": [
    "## Filtrar dados para os municípios de interesse\n",
    "Selecionamos apenas os dados dos municípios da Serra do Penitente."
   ]
  },
  {
   "cell_type": "code",
   "execution_count": null,
   "id": "f1cf6ca3",
   "metadata": {},
   "outputs": [],
   "source": [
    "# Definir municípios alvo\n",
    "municipios_alvo = [\"Balsas\", \"Tasso Fragoso\", \"Alto Parnaíba\"]\n",
    "df_filtrado = df[df[municipio_col].isin(municipios_alvo)]"
   ]
  },
  {
   "cell_type": "markdown",
   "id": "bb436f6e",
   "metadata": {},
   "source": [
    "## Agrupar dados por município e ano\n",
    "Agrupamos os dados para calcular a área total desmatada por município e ano."
   ]
  },
  {
   "cell_type": "code",
   "execution_count": null,
   "id": "f63f0f4f",
   "metadata": {},
   "outputs": [],
   "source": [
    "# Agrupar por município e ano\n",
    "df_agrupado = df_filtrado.groupby([municipio_col, ano_col])[area_col].sum().reset_index()\n",
    "df_agrupado.columns = [\"municipio\", \"ano\", \"area_desmatada_ha\"]\n",
    "print(df_agrupado.head())"
   ]
  },
  {
   "cell_type": "markdown",
   "id": "0b319536",
   "metadata": {},
   "source": [
    "## Salvar os dados filtrados\n",
    "Salvamos os dados filtrados e agrupados em um novo arquivo CSV."
   ]
  },
  {
   "cell_type": "code",
   "execution_count": null,
   "id": "85aa52ad",
   "metadata": {},
   "outputs": [],
   "source": [
    "# Salvar CSV\n",
    "output_path = \"data/generated/desmatamento_serra_penitente.csv\"\n",
    "df_agrupado.to_csv(output_path, index=False)\n",
    "print(f\"✅ Dataset salvo em: {output_path}\")"
   ]
  },
  {
   "cell_type": "markdown",
   "id": "e2a65cb0",
   "metadata": {},
   "source": [
    "## Gerar gráfico de evolução do desmatamento\n",
    "Criamos um gráfico de linha para visualizar a evolução do desmatamento ao longo dos anos."
   ]
  },
  {
   "cell_type": "code",
   "execution_count": null,
   "id": "e5534b44",
   "metadata": {},
   "outputs": [],
   "source": [
    "# Gerar gráfico de linha\n",
    "plt.figure(figsize=(10, 6))\n",
    "sns.lineplot(data=df_agrupado, x=\"ano\", y=\"area_desmatada_ha\", hue=\"municipio\", marker=\"o\")\n",
    "plt.title(\"Evolução do Desmatamento nos Municípios da Serra do Penitente (2000-2023)\")\n",
    "plt.xlabel(\"Ano\")\n",
    "plt.ylabel(\"Área Desmatada (ha)\")\n",
    "plt.grid(True)\n",
    "plt.legend(title=\"Município\")\n",
    "plt.tight_layout()\n",
    "graph_output_path = \"results/figures/evolucao_desmatamento_serra_penitente.png\"\n",
    "plt.savefig(graph_output_path)\n",
    "plt.close()\n",
    "print(f\"✅ Gráfico salvo em: {graph_output_path}\")"
   ]
  }
 ],
 "metadata": {
  "kernelspec": {
   "display_name": "venv",
   "language": "python",
   "name": "python3"
  },
  "language_info": {
   "codemirror_mode": {
    "name": "ipython",
    "version": 3
   },
   "file_extension": ".py",
   "mimetype": "text/x-python",
   "name": "python",
   "nbconvert_exporter": "python",
   "pygments_lexer": "ipython3",
   "version": "3.10.10"
  }
 },
 "nbformat": 4,
 "nbformat_minor": 5
}
