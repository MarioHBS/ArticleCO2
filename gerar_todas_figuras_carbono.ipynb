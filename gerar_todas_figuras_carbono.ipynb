{
 "cells": [
  {
   "cell_type": "markdown",
   "id": "52cff376",
   "metadata": {},
   "source": [
    "# Geração de Figuras para Análise de Carbono\n",
    "Este notebook gera figuras relacionadas à análise de carbono e exibe prévias das imagens geradas."
   ]
  },
  {
   "cell_type": "code",
   "execution_count": null,
   "id": "725694e0",
   "metadata": {},
   "outputs": [],
   "source": [
    "# Importar bibliotecas necessárias\n",
    "import matplotlib.pyplot as plt\n",
    "import seaborn as sns\n",
    "import numpy as np\n",
    "import pandas as pd\n",
    "import os"
   ]
  },
  {
   "cell_type": "code",
   "execution_count": null,
   "id": "c4c55a40",
   "metadata": {},
   "outputs": [],
   "source": [
    "# Configurar diretório para salvar figuras\n",
    "base_path = 'results/figures/'\n",
    "os.makedirs(base_path, exist_ok=True)"
   ]
  },
  {
   "cell_type": "code",
   "execution_count": null,
   "id": "dca7138a",
   "metadata": {},
   "outputs": [],
   "source": [
    "# Dados simulados para ilustração\n",
    "np.random.seed(42)\n",
    "y_true = np.random.uniform(7, 16, 50)\n",
    "y_pred = y_true + np.random.normal(0, 1, 50)\n",
    "X_sim = pd.DataFrame({\n",
    "    'GEE_tCO2e': np.random.uniform(1e5, 5e5, 50),\n",
    "    'area_desmatada_ha': np.random.uniform(100, 1000, 50),\n",
    "    'pib': np.random.uniform(1e9, 5e9, 50),\n",
    "})"
   ]
  },
  {
   "cell_type": "markdown",
   "id": "fade9426",
   "metadata": {},
   "source": [
    "## Figura 1: EQM dos Modelos"
   ]
  },
  {
   "cell_type": "code",
   "execution_count": null,
   "id": "45af34f1",
   "metadata": {},
   "outputs": [],
   "source": [
    "modelos = ['Baseline', 'LR', 'MLP', 'KNN', 'RF', 'DT']\n",
    "eqm = [0.15, 0.12, 0.08, 0.05, 0.02, 0.01]\n",
    "fig1_path = base_path + 'figura1_eqm_modelos.png'\n",
    "plt.figure(figsize=(8, 5))\n",
    "colors = sns.color_palette('husl', len(modelos))\n",
    "colors[0] = 'orange'\n",
    "sns.barplot(x=modelos, y=eqm, palette=colors)\n",
    "plt.ylabel('Erro Quadrático Médio (EQM)')\n",
    "plt.xlabel('Modelos')\n",
    "plt.tight_layout()\n",
    "plt.savefig(fig1_path)\n",
    "plt.show()"
   ]
  },
  {
   "cell_type": "markdown",
   "id": "e28bdde4",
   "metadata": {},
   "source": [
    "## Figura 2: Correlação entre Atributos"
   ]
  },
  {
   "cell_type": "code",
   "execution_count": null,
   "id": "3350f845",
   "metadata": {},
   "outputs": [],
   "source": [
    "atributos = ['GEE_tCO2e', 'area_desmatada_ha', 'pib']\n",
    "correlacoes = np.corrcoef(X_sim.T)\n",
    "fig2_path = base_path + 'figura2_correlacoes.png'\n",
    "plt.figure(figsize=(8, 6))\n",
    "sns.heatmap(correlacoes, annot=True, xticklabels=atributos, yticklabels=atributos, cmap='coolwarm')\n",
    "plt.tight_layout()\n",
    "plt.savefig(fig2_path)\n",
    "plt.show()"
   ]
  },
  {
   "cell_type": "markdown",
   "id": "e3cb037b",
   "metadata": {},
   "source": [
    "## Figura 3: Dispersão Real vs Predito"
   ]
  },
  {
   "cell_type": "code",
   "execution_count": null,
   "id": "855be89c",
   "metadata": {},
   "outputs": [],
   "source": [
    "fig3_path = base_path + 'figura3_dispersion_real_predito.png'\n",
    "plt.figure(figsize=(7, 7))\n",
    "plt.scatter(y_true, y_pred, alpha=0.7)\n",
    "plt.plot([y_true.min(), y_true.max()], [y_true.min(), y_true.max()], 'r--')\n",
    "plt.xlabel('Preço do Carbono Real (USD)')\n",
    "plt.ylabel('Preço do Carbono Predito (USD)')\n",
    "plt.title('Dispersão: Real vs Predito')\n",
    "plt.tight_layout()\n",
    "plt.savefig(fig3_path)\n",
    "plt.show()"
   ]
  }
 ],
 "metadata": {
  "language_info": {
   "name": "python"
  }
 },
 "nbformat": 4,
 "nbformat_minor": 5
}
